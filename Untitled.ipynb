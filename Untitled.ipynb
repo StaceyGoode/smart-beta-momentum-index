{
 "cells": [
  {
   "cell_type": "code",
   "execution_count": 1,
   "id": "71e98c03-cd44-48c5-98a9-942dc0971d18",
   "metadata": {},
   "outputs": [
    {
     "name": "stderr",
     "output_type": "stream",
     "text": [
      "$JAX: possibly delisted; no timezone found\n",
      "404 Client Error: Not Found for url: https://query2.finance.yahoo.com/v10/finance/quoteSummary/VVI?modules=financialData%2CquoteType%2CdefaultKeyStatistics%2CassetProfile%2CsummaryDetail&corsDomain=finance.yahoo.com&formatted=false&symbol=VVI&crumb=QBzhQl8sXS4\n"
     ]
    },
    {
     "name": "stdout",
     "output_type": "stream",
     "text": [
      "Error with VVI: 'NoneType' object has no attribute 'update'\n"
     ]
    },
    {
     "name": "stderr",
     "output_type": "stream",
     "text": [
      "$MHS: possibly delisted; no price data found  (1d 2018-12-31 -> 2020-01-01) (Yahoo error = \"Data doesn't exist for startDate = 1546232400, endDate = 1577854800\")\n",
      "$MRCS: possibly delisted; no timezone found\n",
      "$LUB: possibly delisted; no timezone found\n",
      "$RK: possibly delisted; no price data found  (1d 2018-12-31 -> 2020-01-01)\n",
      "$KONA: possibly delisted; no timezone found\n",
      "$RUTH: possibly delisted; no timezone found\n",
      "$TAST: possibly delisted; no timezone found\n"
     ]
    },
    {
     "name": "stdout",
     "output_type": "stream",
     "text": [
      "✅ Done! Check your folder for 'restaurant_stocks_with_2019_returns.csv'\n"
     ]
    }
   ],
   "source": [
    "import pandas as pd\n",
    "import yfinance as yf\n",
    "\n",
    "# Load your uploaded CSV\n",
    "df = pd.read_csv('restaurant_stocks.csv')\n",
    "\n",
    "# Clean up the ticker column\n",
    "df['Ticker'] = df['Ticker'].astype(str).str.strip()\n",
    "tickers = df['Ticker'].dropna().unique().tolist()\n",
    "\n",
    "# Dictionary to store price data\n",
    "price_data = {}\n",
    "\n",
    "# Fetch adjusted closing prices for 2018 and 2019\n",
    "for ticker in tickers:\n",
    "    try:\n",
    "        stock = yf.Ticker(ticker)\n",
    "        hist = stock.history(start=\"2018-12-31\", end=\"2020-01-01\")\n",
    "        adj_2018 = hist.loc[\"2018-12-31\"][\"Close\"] if \"2018-12-31\" in hist.index else None\n",
    "        adj_2019 = hist.loc[\"2019-12-31\"][\"Close\"] if \"2019-12-31\" in hist.index else None\n",
    "        price_data[ticker] = {\"Adj Close 2018\": adj_2018, \"Adj Close 2019\": adj_2019}\n",
    "    except Exception as e:\n",
    "        price_data[ticker] = {\"Adj Close 2018\": None, \"Adj Close 2019\": None}\n",
    "        print(f\"Error with {ticker}: {e}\")\n",
    "\n",
    "# Convert to DataFrame\n",
    "price_df = pd.DataFrame.from_dict(price_data, orient='index').reset_index().rename(columns={\"index\": \"Ticker\"})\n",
    "\n",
    "# Merge with your original data\n",
    "df = df.merge(price_df, on='Ticker', how='left')\n",
    "\n",
    "# Calculate 2019 return\n",
    "df['2019 Return'] = (df['Adj Close 2019'] / df['Adj Close 2018']) - 1\n",
    "\n",
    "# Save to new CSV file\n",
    "df.to_csv('restaurant_stocks_with_2019_returns.csv', index=False)\n",
    "\n",
    "print(\"✅ Done! Check your folder for 'restaurant_stocks_with_2019_returns.csv'\")\n"
   ]
  },
  {
   "cell_type": "code",
   "execution_count": null,
   "id": "3deb6aa5-8ab9-48be-b434-83f60b8ac640",
   "metadata": {},
   "outputs": [],
   "source": []
  },
  {
   "cell_type": "code",
   "execution_count": 2,
   "id": "9d1fdf10-1b21-44cb-b68c-e9da98220070",
   "metadata": {},
   "outputs": [
    {
     "name": "stdout",
     "output_type": "stream",
     "text": [
      "📈 Restaurant Industry Index 2019 Return: 17.44%\n",
      "⚡ Momentum Tilt Index 2019 Return: 8.10%\n"
     ]
    }
   ],
   "source": [
    "# Step 1: Create Momentum Tilt Weights\n",
    "# Higher 2018 return = higher weight\n",
    "df['Momentum Score'] = df['2018 Return'].rank(ascending=False)\n",
    "df['Momentum Tilt Weight'] = df['Momentum Score'] / df['Momentum Score'].sum()\n",
    "\n",
    "# Convert Index Weight to numeric (in case it's read as a string)\n",
    "df['Index Weight'] = pd.to_numeric(df['Index Weight'], errors='coerce')\n",
    "\n",
    "# Step 2: Calculate Weighted Portfolio Returns\n",
    "df['Index Weighted Return'] = df['Index Weight'] * df['2019 Return']\n",
    "df['Momentum Weighted Return'] = df['Momentum Tilt Weight'] * df['2019 Return']\n",
    "\n",
    "# Step 3: Total Returns\n",
    "index_return_2019 = df['Index Weighted Return'].sum()\n",
    "momentum_return_2019 = df['Momentum Weighted Return'].sum()\n",
    "\n",
    "# Show the results\n",
    "print(f\"📈 Restaurant Industry Index 2019 Return: {index_return_2019:.2%}\")\n",
    "print(f\"⚡ Momentum Tilt Index 2019 Return: {momentum_return_2019:.2%}\")\n"
   ]
  },
  {
   "cell_type": "code",
   "execution_count": null,
   "id": "42c8b6dd-d455-46cb-bffe-74d79d3aadc7",
   "metadata": {},
   "outputs": [],
   "source": []
  }
 ],
 "metadata": {
  "kernelspec": {
   "display_name": "Python 3 (ipykernel)",
   "language": "python",
   "name": "python3"
  },
  "language_info": {
   "codemirror_mode": {
    "name": "ipython",
    "version": 3
   },
   "file_extension": ".py",
   "mimetype": "text/x-python",
   "name": "python",
   "nbconvert_exporter": "python",
   "pygments_lexer": "ipython3",
   "version": "3.13.2"
  }
 },
 "nbformat": 4,
 "nbformat_minor": 5
}
